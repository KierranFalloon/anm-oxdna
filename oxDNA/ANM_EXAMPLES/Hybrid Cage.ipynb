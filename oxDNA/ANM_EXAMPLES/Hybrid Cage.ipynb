{
 "cells": [
  {
   "cell_type": "code",
   "execution_count": 1,
   "metadata": {},
   "outputs": [
    {
     "name": "stdout",
     "output_type": "stream",
     "text": [
      "/home/jonah/CLionProjects/oxdna/oxDNA/ANM_EXAMPLES\n"
     ]
    }
   ],
   "source": [
    "import models as m\n",
    "import os\n",
    "print(os.getcwd())\n",
    "maindir=os.getcwd() "
   ]
  },
  {
   "cell_type": "markdown",
   "metadata": {},
   "source": [
    "# Welcome! In this tutorial we will make a hybrid DNA cage ligated to KDPG Aldolase\n",
    "\n",
    "## We will use the KDPG files generated in the KDPG Example Notebook as the protein\n",
    "\n",
    "## Also we have a pre-relaxed DNA cage structure we provide"
   ]
  },
  {
   "cell_type": "markdown",
   "metadata": {},
   "source": [
    "## Here is our pre-relaxed DNA cage\n",
    "\n",
    "![dna cage](./examples/imgs/dcage.png)\n",
    "\n",
    "\n",
    "## And our KDPG Aldolase\n",
    "    \n",
    "    In pink are the Cysteine residues used to ligate the DNA to the protein\n",
    "\n",
    "![kdpg ligate](./examples/imgs/kdpgligate.png)\n",
    "\n",
    "## NOTE: Mutual traps between the ends of each arm were added during the relaxtion to get the cage into approximately the right shape\n",
    "\n",
    "\n",
    "# Combining the Structures\n",
    "\n",
    "    !!!! MUST BE DONE IN THE FOLLOWING ORDER TO GET CORRECT SIMULATION FILES !!!!\n",
    "    \n",
    "    Drag and drop 'dnacage' .top and .dat files into oxView\n",
    "    Drag and drop 'kdpg' .top and .dat files into oxView\n",
    "    \n",
    "    We have:\n",
    "![cage assembly](./examples/imgs/cageassemble.png)\n",
    "\n",
    "\n",
    "## Now we select the protein system in oxView, translate and rotate it to have the modified residues as close to the DNA arms as we can get (doesn't have to be perfect)\n",
    "\n",
    "SELECTED:\n",
    "\n",
    "![cage mov](./examples/imgs/cageselect.png)\n",
    "\n",
    "\n",
    "ROTATED and TRANSLATED:\n",
    "\n",
    "![rot and tran](./examples/imgs/cageplaced.png)\n",
    "\n",
    "## Drop the kdpg.par file in and download the simulation files\n",
    "\n",
    "## Reopen the simulation files in a fresh instance of oxView\n",
    "\n",
    "### To finish setting up the linker between the DNA and protein we sequentially select each modified protein residue then the DNA base it is linked to\n",
    "\n",
    "\n",
    "![cage trap](./examples/imgs/cagetrap.png)\n",
    "\n",
    "\n",
    "### Simply Click 'Selected Base Trap File' to download the mutual trap file\n",
    "\n",
    "    This is our mutual trap file\n",
    "    \n",
    "![trap file](./examples/imgs/trapfile.png)\n",
    "\n",
    "\n",
    "### We now edit the r0 (equilbrium distance) and stiff (force constant) parameters to match fully atomistic simulations of our linker (LC-SPDP)\n",
    "\n",
    "    (We also take into account length of the amine modification on the DNA\n",
    "    and the cysteine side length)\n",
    "\n",
    "    Edited Trap file\n",
    "    \n",
    "![etrap file](./examples/imgs/etrapfile.png)\n",
    "\n",
    "\n",
    "## Our System is ready to be relaxed\n",
    "\n",
    "### Using the Provided Input Files we will relax the structure using Monte Carlo Methods\n",
    "    \n",
    "    Monte Carlo is used to prevent explosive forces from the added mutual traps. Once the traps are relaxed\n",
    "    we can use MD methods to quickly relax the rest of the system\n",
    "\n",
    "    We will inspect the system visually to check if system is relaxed according to the following criteria\n",
    "    1. DNA arms should be very close to their respective modified protein residues\n",
    "    2. DNA arms should have fully formed Duplexes (or close to it)"
   ]
  },
  {
   "cell_type": "code",
   "execution_count": 8,
   "metadata": {},
   "outputs": [
    {
     "name": "stdout",
     "output_type": "stream",
     "text": [
      "           0  -0.575795   0.000  0.000  0.000  \n",
      "        1000  -0.471079   0.404  0.719  0.000  \n",
      "        2000  -0.475207   0.405  0.721  0.000  \n",
      "        3000  -0.474535   0.405  0.721  0.000  \n",
      "        4000  -0.472602   0.405  0.721  0.000  \n",
      "        5000  -0.467709   0.406  0.721  0.000  \n",
      "        6000  -0.462515   0.406  0.721  0.000  \n",
      "        7000  -0.469383   0.406  0.722  0.000  \n",
      "        8000  -0.473366   0.406  0.722  0.000  \n",
      "        9000  -0.481467   0.406  0.722  0.000  \n",
      "       10000  -0.475703   0.406  0.722  0.000  \n"
     ]
    }
   ],
   "source": [
    "# Monte Carlo Sim\n",
    "\n",
    "wdir = os.getcwd()\n",
    "\n",
    "os.chdir('./examples/Cage/')\n",
    "\n",
    "!/home/jonah/CLionProjects/oxdna/oxDNA/build/bin/oxDNA ./input_relaxMC\n",
    "\n",
    "os.chdir(wdir) # If this isn't called use os.chdir(maindir) to return to your original folder"
   ]
  },
  {
   "cell_type": "markdown",
   "metadata": {},
   "source": [
    "## It hasn't been long but let's take a look!\n",
    "\n",
    "![mc relax](./examples/imgs/cagemc.png)\n",
    "\n",
    "## Good Enough for an MD simulation! Let's use our CUDADNANM Interaction to Relax the structure"
   ]
  },
  {
   "cell_type": "code",
   "execution_count": 9,
   "metadata": {},
   "outputs": [
    {
     "name": "stdout",
     "output_type": "stream",
     "text": [
      "           0         0.0000  -0.484209   0.210801  -0.273408 \n",
      "       10000        20.0000  -0.466222   0.203609  -0.262613 \n",
      "       20000        40.0000  -0.460448   0.204456  -0.255991 \n",
      "       30000        60.0000  -0.464303   0.217320  -0.246983 \n",
      "       40000        80.0000  -0.457388   0.207596  -0.249792 \n",
      "       50000       100.0000  -0.452555   0.200559  -0.251997 \n",
      "       60000       120.0000  -0.456037   0.200784  -0.255253 \n",
      "       70000       140.0000  -0.457993   0.200202  -0.257791 \n",
      "       80000       160.0000  -0.461624   0.207330  -0.254294 \n",
      "       90000       180.0000  -0.464548   0.213289  -0.251260 \n",
      "      100000       200.0000  -0.465425   0.206583  -0.258842 \n"
     ]
    }
   ],
   "source": [
    "# CUDA MD Relax\n",
    "\n",
    "wdir = os.getcwd()\n",
    "\n",
    "os.chdir('./examples/Cage/') # Directory containing Topology, Parameter, Dat, force Files\n",
    "\n",
    "!/home/jonah/CLionProjects/oxdna/oxDNA/build/bin/oxDNA ./input_cuda\n",
    "\n",
    "os.chdir(wdir) # If this isn't called use os.chdir(maindir) to return to your original folder"
   ]
  },
  {
   "cell_type": "markdown",
   "metadata": {},
   "source": [
    "## Looks Good! Let's try a couple of analyses from our script package!\n",
    "\n",
    "    Make sure you have downloaded https://github.com/sulcgroup/oxdna_analysis_tools\n",
    "    \n",
    "    To Use the tools activate any (Python 3) env of your choice:\n",
    "        \n",
    "        If a script is missing any dependencies, install the missing packages\n",
    "        \n",
    "## We will try 2 basic Analyses on the Trajectory we just generated \n",
    "\n",
    "    1. Compute Mean Structure and Means Squared Deviations\n",
    "    2. Means Squared Deviations from the previously computed mean structure\n",
    "    \n",
    "# 1. Compute Mean Structure"
   ]
  },
  {
   "cell_type": "code",
   "execution_count": 12,
   "metadata": {},
   "outputs": [],
   "source": [
    "mydir = '/home/jonah/oxdna_analysis_tools/' # Replace with your oxdna_analysis_tools directory\n",
    "\n",
    "import subprocess as sp \n",
    "import os\n",
    "\n",
    "wdir = os.getcwd()\n",
    "os.chdir(wdir+'/examples/Cage/')\n",
    "\n",
    "# Call to generate Mean Structures\n",
    "sp.check_call(mydir+'compute_mean.py -f json trajectory.dat hcage.top'\n",
    "              + ' -o cagemean.json', shell=True)\n",
    "\n",
    "sp.check_call(mydir+'compute_mean.py -f oxdna trajectory.dat hcage.top'\n",
    "              + ' -o cagemean.dat', shell=True)\n",
    "\n",
    "os.chdir(wdir) # If this isn't called use os.chdir(maindir) to return to your original folder"
   ]
  },
  {
   "cell_type": "markdown",
   "metadata": {},
   "source": [
    "## We have generated two mean structures, a json format for calculating deviations and an oxdna format for visualization\n",
    "\n",
    "    Dragging and dropping 'hcage.top' and 'cagemean.dat' into oxView we see the mean structure:\n",
    "    \n",
    "![cage mean](./examples/imgs/cagemean.png)\n",
    "\n",
    "    Don't close this Tab! We will need this structure again shortly!\n",
    "\n",
    "### It's pretty wonky because of the very short simulation time, for better sampling we would need to run many more steps. A good measure of steps for proper sampling is whether a duplicate simulation returns the same mean energy and std. deviation.\n",
    "\n",
    "  \n",
    "# 2. Compute Deviations\n",
    "\n",
    "    Now we will use the 'mean.json' file to calculate the mean squared deviation of each particle from it's \n",
    "    mean position\n"
   ]
  },
  {
   "cell_type": "code",
   "execution_count": 4,
   "metadata": {},
   "outputs": [],
   "source": [
    "mydir = '/home/jonah/oxdna_analysis_tools/' # Replace with your oxdna_analysis_tools directory\n",
    "\n",
    "import subprocess as sp \n",
    "import os\n",
    "\n",
    "wdir = os.getcwd()\n",
    "os.chdir(wdir+'/examples/Cage/')\n",
    "\n",
    "# Call to generate Deviations\n",
    "sp.check_call(mydir+'compute_deviations.py cagemean.json trajectory.dat hcage.top'\n",
    "              + ' -o cagedevs.json', shell=True)\n",
    "\n",
    "os.chdir(wdir) # If this isn't called use os.chdir(maindir) to return to your original folder"
   ]
  },
  {
   "cell_type": "markdown",
   "metadata": {},
   "source": [
    "## Now we can drap and drop 'cagedevs.json' onto our structure to view the deviations, This is what we see:\n",
    "\n",
    "![cage devs](./examples/imgs/cagedevs.png)"
   ]
  },
  {
   "cell_type": "markdown",
   "metadata": {},
   "source": [
    "### Check out the rest of our script to take a look at what you can do! The supporting libraries are well documented for your use as well!"
   ]
  },
  {
   "cell_type": "markdown",
   "metadata": {},
   "source": []
  }
 ],
 "metadata": {
  "kernelspec": {
   "display_name": "utils",
   "language": "python",
   "name": "utils"
  },
  "language_info": {
   "codemirror_mode": {
    "name": "ipython",
    "version": 3
   },
   "file_extension": ".py",
   "mimetype": "text/x-python",
   "name": "python",
   "nbconvert_exporter": "python",
   "pygments_lexer": "ipython3",
   "version": "3.8.3"
  }
 },
 "nbformat": 4,
 "nbformat_minor": 4
}
