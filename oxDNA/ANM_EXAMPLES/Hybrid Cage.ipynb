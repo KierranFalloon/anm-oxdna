{
 "cells": [
  {
   "cell_type": "code",
   "execution_count": 1,
   "metadata": {},
   "outputs": [],
   "source": [
    "import models as m"
   ]
  },
  {
   "cell_type": "markdown",
   "metadata": {},
   "source": [
    "# Welcome! In this tutorial we will make a hybrid DNA cage ligated to KDPG Aldolase\n",
    "\n",
    "## We will use the KDPG files generated in the KDPG Example Notebook as the protein\n",
    "\n",
    "## Also we have a pre-relaxed DNA cage structure we provide"
   ]
  },
  {
   "cell_type": "markdown",
   "metadata": {},
   "source": [
    "## Here is our pre-relaxed DNA cage\n",
    "\n",
    "![dna cage](./examples/imgs/dcage.png)\n",
    "\n",
    "\n",
    "## And our KDPG Aldolase\n",
    "    \n",
    "    In pink are the Cysteine residues used to ligate the DNA to the protein\n",
    "\n",
    "![kdpg ligate](./examples/imgs/kdpgligate.png)\n",
    "\n",
    "## NOTE: Mutual traps between the ends of each arm were added during the relaxtion to get the cage into approximately the right shape\n",
    "\n",
    "\n",
    "# Combining the Structures\n",
    "\n",
    "    !!!! MUST BE DONE IN THE FOLLOWING ORDER TO GET CORRECT SIMULATION FILES !!!!\n",
    "    \n",
    "    Drag and drop 'dnacage' .top and .dat files into oxView\n",
    "    Drag and drop 'kdpg' .top and .dat files into oxView\n",
    "    \n",
    "    We have:\n",
    "![cage assembly](./examples/imgs/cageassemble.png)\n",
    "\n",
    "\n",
    "## Now we select the protein system in oxView, translate and rotate it to have the modified residues as close to the DNA arms as we can get (doesn't have to be perfect)\n",
    "\n",
    "SELECTED:\n",
    "\n",
    "![cage mov](./examples/imgs/cageselect.png)\n",
    "\n",
    "\n",
    "ROTATED and TRANSLATED:\n",
    "\n",
    "![rot and tran](./examples/imgs/cageplaced.png)\n",
    "\n",
    "## Drop the kdpg.par file in and download the simulation files\n",
    "\n",
    "## Reopen the simulation files in a fresh instance of oxView\n",
    "\n",
    "\n",
    "\n",
    "\n",
    "## To finish setting up the linker between the DNA and protein we sequentially select each modified protein residue then the DNA base it is linked to\n",
    "\n",
    "\n",
    "![cage trap](./examples/imgs/cagetrap.png)\n",
    "\n",
    "\n",
    "## Simply Click 'Selected Base Trap File' to download the mutual trap file\n",
    "\n",
    "    This is our mutual trap file\n",
    "    \n",
    "![trap file](./examples/imgs/trapfile.png)\n",
    "\n",
    "\n",
    "## We now edit the r0 (equilbrium distance) and stiff (force constant) parameters to match fully atomistic simulations of our linker (LC-SPDP)\n",
    "\n",
    "    (in practice you would also take into account length of the amine modification on the DNA\n",
    "    and the cysteine side length, however that is ignored here)\n",
    "\n",
    "    Edited Trap file\n",
    "    \n",
    "![etrap file](./examples/imgs/etrapfile.png)\n",
    "\n",
    "## Going back to our system in oxView, we must do the following to generate a correct topology, dat, and parameter file\n",
    "\n",
    "\n",
    "\n"
   ]
  },
  {
   "cell_type": "code",
   "execution_count": null,
   "metadata": {},
   "outputs": [],
   "source": []
  }
 ],
 "metadata": {
  "kernelspec": {
   "display_name": "utils",
   "language": "python",
   "name": "utils"
  },
  "language_info": {
   "codemirror_mode": {
    "name": "ipython",
    "version": 3
   },
   "file_extension": ".py",
   "mimetype": "text/x-python",
   "name": "python",
   "nbconvert_exporter": "python",
   "pygments_lexer": "ipython3",
   "version": "3.8.3"
  }
 },
 "nbformat": 4,
 "nbformat_minor": 4
}
