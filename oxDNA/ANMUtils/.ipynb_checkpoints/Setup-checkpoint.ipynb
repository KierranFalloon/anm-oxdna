{
 "cells": [
  {
   "cell_type": "markdown",
   "metadata": {},
   "source": [
    "# Welcome To The ANM-oxDNA Model!\n",
    "\n",
    "## To fully run the example notebooks you will need to...\n",
    "\n",
    "### 1. Compile the oxDNA code with CUDA support \n",
    "\n",
    "    Basic Installation Instructions:\n",
    "    \n",
    "    https://dna.physics.ox.ac.uk/index.php/Download_and_Installation\n",
    "\n",
    "### 2. Download oxView \n",
    "\n",
    "    https://github.com/sulcgroup/oxdna-viewer\n",
    "\n",
    "### 3. Download the Analysis Scripts (Only needed for cage example)\n",
    "\n",
    "    https://github.com/sulcgroup/oxdna_analysis_tools\n",
    "\n",
    "### 3. Setup Jupyter for use with a new kernel (env) as the following dependencies are necessary\n",
    "\n",
    "1. biopython\n",
    "2. numpy \n",
    "3. matplotlib\n",
    "4. scipy\n",
    "5. scikit-learn\n",
    "\n",
    "### Steps To Setting Up the Kernel on an Ubuntu Machine are shown Below\n"
   ]
  },
  {
   "cell_type": "markdown",
   "metadata": {},
   "source": [
    "## ENV Setup on Jupyter\n",
    "\n",
    "Open Up a Terminal!\n",
    "\n",
    "#### Step 1: Make new conda env via the below command, name is arbitrary but must be constant throughout setup\n",
    "        conda create --name enm\n",
    "        \n",
    "#### Step 2: Activate env\n",
    "        conda activate enm\n",
    "        \n",
    "#### Step 3: Install Dependencies\n",
    "        conda install -c conda-forge biopython\n",
    "        conda install -c conda-forge numpy\n",
    "        conda install -c conda-forge matplotlib\n",
    "        conda install -c conda-forge scipy\n",
    "        conda install -c conda-forge scikit-learn\n",
    "        \n",
    "        \n",
    "#### Optional: To Enable CUDA\n",
    "        *Only recommended for Large Proteins (N>1000) or HANM Applications*\n",
    "        Prequisites:\n",
    "            1. Must have working installation of CUDA with compatible graphics card\n",
    "            2. Must set LD_LIBRARY_PATH and PATH variables\n",
    "        \n",
    "        1.Install the following dependencies\n",
    "            pip install pycuda\n",
    "            pip install scikit-cuda\n",
    "            (If these have a problem installing check your LD_LIBRARY_PATH and PATH variables)\n",
    "            \n",
    "        2. Set cuda_support flag to True at of file 'models.py'\n",
    "        \n",
    "#### Step 4: Install ipykernel on env\n",
    "        conda install -c anaconda ipykernel\n",
    "        \n",
    "#### Step 5: Add Conda env to ipykernel\n",
    "        python -m ipykernel install --user --name=enm\n",
    "        \n",
    "#### Step 6: Launch Example Jupyter Notebooks\n",
    "        Make sure to change kernel in individual notebook to 'enm' or the name you gave your env\n",
    "        \n",
    "        \n",
    "If you can't find your kernel, make sure to relaunch Jupyter!"
   ]
  },
  {
   "cell_type": "markdown",
   "metadata": {},
   "source": []
  }
 ],
 "metadata": {
  "kernelspec": {
   "display_name": "Python 3",
   "language": "python",
   "name": "python3"
  },
  "language_info": {
   "codemirror_mode": {
    "name": "ipython",
    "version": 3
   },
   "file_extension": ".py",
   "mimetype": "text/x-python",
   "name": "python",
   "nbconvert_exporter": "python",
   "pygments_lexer": "ipython3",
   "version": "3.8.3"
  }
 },
 "nbformat": 4,
 "nbformat_minor": 4
}
