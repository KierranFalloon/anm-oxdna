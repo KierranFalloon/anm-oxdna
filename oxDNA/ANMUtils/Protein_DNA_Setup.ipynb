{
 "cells": [
  {
   "cell_type": "markdown",
   "metadata": {},
   "source": [
    "# Protein preparation - DNA / RNA implementation\n",
    "\n",
    "### This is a generalised setup workflow adapted from KDPG / Cage examples for preparing a protein database (PDB) file for oxDNA simulation and / or visualisation with oxView, in conjunction with DNA preparation from a sequence file generated.\n",
    "\n",
    "## Please place this notebook in the ANMUtils directory for best use.\n",
    "\n",
    "## For ANMT simulation, follow ANMT Model headers."
   ]
  },
  {
   "cell_type": "markdown",
   "metadata": {},
   "source": [
    "### Please See Setup Notebook if you are experiencing dependency issues when executing the below command"
   ]
  },
  {
   "cell_type": "code",
   "execution_count": null,
   "metadata": {},
   "outputs": [],
   "source": [
    "import models as m\n",
    "import os\n",
    "import subprocess\n",
    "\n",
    "## Some useful directories, assumes directory structure of GitHub repo\n",
    "\n",
    "current_folder = globals()['_dh'][0] # Get location of Jupyter Notebook .ipynb file\n",
    "os.chdir(current_folder) # Make working directory the Jupyter Notebook .ipynb file location\n",
    "print(\"Current working directory:\", os.getcwd()) # Ensure this is the ANMUtils directory\n",
    "\n",
    "bin_directory = os.path.abspath(os.path.join(os.getcwd(), os.pardir)) + '/build/bin'\n",
    "oxDNA_directory = bin_directory + '/oxDNA'\n",
    "print(\"\\nPredicted oxDNA path:\",oxDNA_directory) # Double check this is the oxDNA directory\n",
    "\n",
    "UTILS_directory = os.path.abspath(os.path.join(os.getcwd(), os.pardir)) + '/UTILS'\n",
    "print(\"\\nPredicted UTILS path:\",UTILS_directory) # Double check this is the UTILS directory"
   ]
  },
  {
   "cell_type": "markdown",
   "metadata": {},
   "source": [
    "# Prep PDB File"
   ]
  },
  {
   "cell_type": "markdown",
   "metadata": {},
   "source": [
    "### The scripts convert every CA atom in the provided PDB file including from repeated models. "
   ]
  },
  {
   "cell_type": "code",
   "execution_count": null,
   "metadata": {},
   "outputs": [],
   "source": [
    "#Set Working Directory // general directory work\n",
    "\n",
    "wdir = os.getcwd()\n",
    "print(wdir + '\\n')\n",
    "pdb_path = input(\"Enter the path of the .PDB file, relative to the working directory shown: \\n\")\n",
    "\n",
    "parent_directory = os.path.abspath(os.path.join(pdb_path, os.pardir))\n",
    "\n",
    "#Get name of protein from PDB filename \n",
    "protein_name = os.path.splitext(pdb_path)[0].split(\"/\",-1)[-1]"
   ]
  },
  {
   "cell_type": "markdown",
   "metadata": {},
   "source": [
    "# ANM Model"
   ]
  },
  {
   "cell_type": "markdown",
   "metadata": {},
   "source": [
    "#### Generates .top, .dat and .par files from the .pdb file using relevant conversions."
   ]
  },
  {
   "cell_type": "code",
   "execution_count": null,
   "metadata": {},
   "outputs": [],
   "source": [
    "#ANM\n",
    "# returns coordinates, b-factors, and chain map for EVERY CA in pdb file\n",
    "coord, bfact, bmap = m.get_pdb_info(wdir + pdb_path, returntype='cbm')\n",
    "\n",
    "# Initalize Model, T-> Temp in Kelvin that crystal was resolved at, cutoff-> r_max in Angstroms\n",
    "anm = m.ANM(coord, bfact, T=300, cutoff=13)\n",
    "\n",
    "# One shot Calculation of Analytical B-factors based of coordinates and cutoff value\n",
    "anm.calc_ANM_unitary(cuda=False) # Only recommend enabling CUDA if (N > 1000)\n",
    "\n",
    "# Compare Analytical to Experimental B-factors\n",
    "anm.anm_compare_bfactors_jupyter(bmap=bmap)\n",
    "\n",
    "# Pretty Good Fit to the Experimental B-factors, Lets export this network to simulation\n",
    "m.export_to_simulation(anm, wdir + pdb_path, upstreamdir = parent_directory)"
   ]
  },
  {
   "cell_type": "markdown",
   "metadata": {},
   "source": [
    "## ANM Model File manipulation"
   ]
  },
  {
   "cell_type": "markdown",
   "metadata": {},
   "source": [
    "#### Changes the filenames to be suitable for the ANM oxDNA simulation"
   ]
  },
  {
   "cell_type": "code",
   "execution_count": null,
   "metadata": {},
   "outputs": [],
   "source": [
    "# Moving Files From working Directory to Ex. Directory\n",
    "os.chdir(wdir + parent_directory)\n",
    "print(os.getcwd())\n",
    "\n",
    "if os.path.isfile('generated.par') == True:\n",
    "    os.replace('generated.par', str(protein_name)+'.par')\n",
    "    os.replace('generated.top', str(protein_name)+'.top')\n",
    "    os.replace('generated.dat', str(protein_name)+'.dat')\n",
    "    print(\"Renamed files\")\n",
    "elif os.path.isfile(str(protein_name) + '.par') == True:\n",
    "    print(\"Files already renamed\")\n",
    "else:\n",
    "    print(\"No actionable files present\")\n",
    "    print(str(protein_name) + '.par')\n",
    "\n",
    "current_folder = globals()['_dh'][0] # Get location of Jupyter Notebook .ipynb file\n",
    "os.chdir(current_folder) # Make working directory the Jupyter Notebook .ipynb file location"
   ]
  },
  {
   "cell_type": "markdown",
   "metadata": {},
   "source": [
    "# ANMT Model"
   ]
  },
  {
   "cell_type": "markdown",
   "metadata": {},
   "source": [
    "#### Generates .top, .dat and .par files from the .pdb file using relevant conversions."
   ]
  },
  {
   "cell_type": "code",
   "execution_count": null,
   "metadata": {},
   "outputs": [],
   "source": [
    "# AMNT B-factors cannot yet be calculated analytically so we still use the ANM as our base\n",
    "\n",
    "# There are two main differences. 1. in the input file we define kb kt (in sim units) and Interaction type = ACT\n",
    "#                                 2. additional angle parameters in the parameter file\n",
    "\n",
    "# returns coordinates separated by chain, and b-factors separated by chain\n",
    "coord, bfact = m.get_pdb_info(wdir + pdb_path)\n",
    "\n",
    "# To get the additional angle parameters we need to do the following\n",
    "anmt = m.ANMT(coord, bfact, T=300, cutoff=20)\n",
    "\n",
    "# One shot Calculation of Analytical B-factors based of coordinates and cutoff value (No knowledge of B&T)\n",
    "anmt.calc_ANM_unitary(cuda=False)\n",
    "\n",
    "# Export Simulation Files\n",
    "m.export_to_simulation(anmt, wdir + pdb_path, upstreamdir = parent_directory)"
   ]
  },
  {
   "cell_type": "markdown",
   "metadata": {},
   "source": [
    "## ANMT Model File manipulation"
   ]
  },
  {
   "cell_type": "markdown",
   "metadata": {},
   "source": [
    "#### Changes the filenames to be suitable for the ANMT oxDNA simulation"
   ]
  },
  {
   "cell_type": "code",
   "execution_count": null,
   "metadata": {},
   "outputs": [],
   "source": [
    "# Moving Files From working Directory to Ex. Directory\n",
    "os.chdir(wdir + parent_directory)\n",
    "\n",
    "if os.path.isfile('generated.par') == True:\n",
    "    os.replace('generated.par', str(protein_name)+'t.par')\n",
    "    os.replace('generated.top', str(protein_name)+'t.top')\n",
    "    os.replace('generated.dat', str(protein_name)+'t.dat')\n",
    "    print(\"Renamed files\")\n",
    "    \n",
    "elif os.path.isfile(str(protein_name) + 't.par') == True:\n",
    "    print(\"Files already renamed\")\n",
    "    \n",
    "else:\n",
    "    print(\"No actionable files present\")\n",
    "    print(str(protein_name) + 't.par')\n",
    "\n",
    "current_folder = globals()['_dh'][0] # Get location of Jupyter Notebook .ipynb file\n",
    "os.chdir(current_folder) # Make working directory the Jupyter Notebook .ipynb file location"
   ]
  },
  {
   "cell_type": "markdown",
   "metadata": {},
   "source": [
    "# Prep DNA"
   ]
  },
  {
   "cell_type": "markdown",
   "metadata": {},
   "source": [
    "Reads a text file with the following format:\n",
    "- Each line contains the sequence for a single strand (A,C,T,G)\n",
    "- Lines begining in DOUBLE produce double stranded DNA\n",
    "\n",
    "Ex: Two ssDNA (single stranded DNA) <br>\n",
    "ATATATA <br>\n",
    "GCGCGCG\n",
    "\n",
    "Ex: Two strands, one double stranded, the other single stranded. <br>\n",
    "DOUBLE AGGGCT <br>\n",
    "CCTGTA"
   ]
  },
  {
   "cell_type": "markdown",
   "metadata": {},
   "source": [
    "## Create a short DNA sequence txt file below using the above formatting "
   ]
  },
  {
   "cell_type": "code",
   "execution_count": null,
   "metadata": {},
   "outputs": [],
   "source": [
    "current_folder = globals()['_dh'][0]\n",
    "os.chdir(current_folder)\n",
    "print(\"Current working directory:\", os.getcwd()) # Reset CWD\n",
    "\n",
    "with open('sequence.txt', 'w') as writer:\n",
    "    writer.close() # Reset / create sequence.txt\n",
    "\n",
    "    \n",
    "strands = int(input(\"How many strands are you inputting? \\n\"))\n",
    "direction = int(input(\"Primary direction?\\nType 3 for 3'-5' and 5 for 5'-3': \\n\"))\n",
    "\n",
    "iters = 0\n",
    "for iters in range(strands):\n",
    "\n",
    "    sequ = str(input(\"Please type sequence {}: \\n\".format(iters + 1)))\n",
    "    \n",
    "    if direction == 5:\n",
    "        \n",
    "        if sequ[0:6] == \"DOUBLE\":\n",
    "            sequ = \"DOUBLE \" + sequ[:6:-1]\n",
    "            \n",
    "        else:\n",
    "            sequ = sequ[::-1]\n",
    "            \n",
    "        print(\"Converted to {} in 3'-5'\\n \".format(sequ))\n",
    "        \n",
    "    with open('sequence.txt', 'a') as writer:\n",
    "        writer.write(sequ)\n",
    "        writer.write(\"\\n\")\n",
    "    \n",
    "    iters += 1\n",
    "    \n",
    "f = open('sequence.txt', 'r')\n",
    "f.close()\n",
    "\n",
    "print(\"File saved as sequence.txt in {}\".format(current_folder))"
   ]
  },
  {
   "cell_type": "markdown",
   "metadata": {},
   "source": [
    "## Convert sequence to necessary data and topology files "
   ]
  },
  {
   "cell_type": "code",
   "execution_count": null,
   "metadata": {},
   "outputs": [],
   "source": [
    "box_size = input(\"Enter desired box size:\\n\")\n",
    "generate_sa = UTILS_directory + '/generate-sa.py'\n",
    "generate_rna = UTILS_directory + '/generate-RNA.py'\n",
    "\n",
    "if str(input(\"DNA or RNA\\n\")) == \"DNA\":\n",
    "    subprocess.call(['python2', generate_sa, box_size, 'sequence.txt']) # Runs generate-sa.py in UTILS directory\n",
    "else:\n",
    "    subprocess.call(['python2', generate_rna, 'sequence.txt', box_size]) # Runs generate-RNA.py in UTILS directory\n",
    "    \n",
    "os.system(conf_directory  + ' input_AC')"
   ]
  },
  {
   "cell_type": "markdown",
   "metadata": {},
   "source": [
    "# General input file generation"
   ]
  },
  {
   "cell_type": "markdown",
   "metadata": {},
   "source": [
    "## Only have the .dat, .top and .par files wanted in the input file in the directory\n",
    "\n",
    "### OXDNA2 = Standard DNA only model\n",
    "### AC = ANM model\n",
    "### ACT = ANMT model\n",
    "### DNANM = DNA - ANM model\n",
    "### DNACT = DNA - ANMT model\n",
    "\n",
    "#### Produced is a general, formatted input file with the specifics needed for the simulation parameters chosen. Please edit the values within it as needed."
   ]
  },
  {
   "cell_type": "code",
   "execution_count": null,
   "metadata": {},
   "outputs": [],
   "source": [
    "current_folder = globals()['_dh'][0] # Get location of Jupyter Notebook .ipynb file\n",
    "os.chdir(current_folder) # Make working directory the Jupyter Notebook .ipynb file location\n",
    "sim_type = str(input(\"Type of simulation?\\n oxDNA2 / AC / ACT / DNANM / DNACT \\n\")) # ACT = ANMT\n",
    "int_type = str(input(\"MD or MC simulation? \\n\"))\n",
    "\n",
    "subprocess.call(['python', \"input_gen.py\", sim_type, int_type]) # Runs input_gen.py in ANMUtils directory"
   ]
  },
  {
   "cell_type": "markdown",
   "metadata": {},
   "source": [
    "## oxDNA2 Model Simulation"
   ]
  },
  {
   "cell_type": "markdown",
   "metadata": {},
   "source": [
    "#### Ensure relevant input files are in the above printed directory along with the .top and .dat files. Alternatively, run the oxDNA executable in terminal using your preferred method on the relevant input file."
   ]
  },
  {
   "cell_type": "code",
   "execution_count": null,
   "metadata": {},
   "outputs": [],
   "source": [
    "# oxDNA executable path\n",
    "current_folder = globals()['_dh'][0]\n",
    "os.chdir(current_folder)\n",
    "print(\"Current working directory:\", os.getcwd()) # Reset CWD\n",
    "\n",
    "os.system(oxDNA_directory + ' input_oxDNA2')"
   ]
  },
  {
   "cell_type": "markdown",
   "metadata": {},
   "source": [
    "## ANM Model Simulation"
   ]
  },
  {
   "cell_type": "markdown",
   "metadata": {},
   "source": [
    "## To simulate protein and DNA together, please combine in oxView and create trap file first."
   ]
  },
  {
   "cell_type": "markdown",
   "metadata": {},
   "source": [
    "#### Ensure relevant input files are in the above printed directory along with the .par, .top and .dat files. Alternatively, run the oxDNA executable in terminal using your preferred method on the relevant input file."
   ]
  },
  {
   "cell_type": "code",
   "execution_count": null,
   "metadata": {},
   "outputs": [],
   "source": [
    "# ANM-oxDNA executable path\n",
    "current_folder = globals()['_dh'][0]\n",
    "os.chdir(current_folder)\n",
    "print(\"Current working directory:\", os.getcwd()) # Reset CWD\n",
    "\n",
    "os.system(oxDNA_directory + ' input_AC')"
   ]
  },
  {
   "cell_type": "markdown",
   "metadata": {},
   "source": [
    "## ANMT Model Simulation"
   ]
  },
  {
   "cell_type": "markdown",
   "metadata": {},
   "source": [
    "#### Ensure relevant input files are in the above printed directory along with the .par, .top and .dat files. Alternatively, run the oxDNA executable in terminal using your preferred method on the relevant input file."
   ]
  },
  {
   "cell_type": "markdown",
   "metadata": {},
   "source": [
    "## Protein relaxation:"
   ]
  },
  {
   "cell_type": "code",
   "execution_count": null,
   "metadata": {},
   "outputs": [],
   "source": [
    "# ANMT-oxDNA executable path\n",
    "\n",
    "current_folder = globals()['_dh'][0]\n",
    "os.chdir(current_folder)\n",
    "print(\"Current working directory:\", os.getcwd()) # Reset CWD\n",
    "\n",
    "os.system(oxDNA_directory + ' input_ACT')"
   ]
  },
  {
   "cell_type": "markdown",
   "metadata": {},
   "source": [
    "## Protein-DNA Interaction"
   ]
  },
  {
   "cell_type": "code",
   "execution_count": null,
   "metadata": {},
   "outputs": [],
   "source": [
    "# ANM-oxDNA executable path\n",
    "\n",
    "current_folder = globals()['_dh'][0]\n",
    "os.chdir(current_folder)\n",
    "print(\"Current working directory:\", os.getcwd()) # Reset CWD\n",
    "\n",
    "os.system(oxDNA_directory + ' input_DNANM')"
   ]
  },
  {
   "cell_type": "code",
   "execution_count": null,
   "metadata": {},
   "outputs": [],
   "source": [
    "# ANMT-oxDNA executable path\n",
    "\n",
    "current_folder = globals()['_dh'][0]\n",
    "os.chdir(current_folder)\n",
    "print(\"Current working directory:\", os.getcwd()) # Reset CWD\n",
    "\n",
    "os.system(oxDNA_directory + ' input_DNACT')"
   ]
  },
  {
   "cell_type": "code",
   "execution_count": null,
   "metadata": {},
   "outputs": [],
   "source": []
  },
  {
   "cell_type": "code",
   "execution_count": null,
   "metadata": {},
   "outputs": [],
   "source": []
  }
 ],
 "metadata": {
  "kernelspec": {
   "display_name": "Python 3 (ipykernel)",
   "language": "python",
   "name": "python3"
  },
  "language_info": {
   "codemirror_mode": {
    "name": "ipython",
    "version": 3
   },
   "file_extension": ".py",
   "mimetype": "text/x-python",
   "name": "python",
   "nbconvert_exporter": "python",
   "pygments_lexer": "ipython3",
   "version": "3.9.13"
  }
 },
 "nbformat": 4,
 "nbformat_minor": 4
}
